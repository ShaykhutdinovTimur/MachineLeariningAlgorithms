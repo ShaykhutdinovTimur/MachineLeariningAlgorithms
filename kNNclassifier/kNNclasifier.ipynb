{
 "cells": [
  {
   "cell_type": "code",
   "execution_count": 1,
   "metadata": {
    "collapsed": false
   },
   "outputs": [
    {
     "data": {
      "application/javascript": [
       "IPython.notebook.set_autosave_interval(15000)"
      ]
     },
     "metadata": {},
     "output_type": "display_data"
    },
    {
     "name": "stdout",
     "output_type": "stream",
     "text": [
      "Autosaving every 15 seconds\n"
     ]
    }
   ],
   "source": [
    "#imports\n",
    "%matplotlib inline\n",
    "%load_ext autoreload\n",
    "%autoreload 5\n",
    "%autosave 15\n",
    "\n",
    "import pandas as pd\n",
    "import math\n",
    "import scipy as sp\n",
    "import numpy as np\n",
    "import sklearn.cross_validation as cv\n",
    "import sklearn.metrics as mt\n",
    "import matplotlib.pyplot as plt\n"
   ]
  },
  {
   "cell_type": "code",
   "execution_count": 2,
   "metadata": {
    "collapsed": false
   },
   "outputs": [],
   "source": [
    "# kernel and distance examples\n",
    "def linear(dist): \n",
    "    return 1 - dist\n",
    "def default(dist):\n",
    "    return 1\n",
    "def cosKernel(dist):\n",
    "    return math.cos(dist * math.pi / 2)\n",
    "def minkowskiDist(k):\n",
    "    def newDist(a, b):\n",
    "        res = 0\n",
    "        for (name, value) in a.iteritems():\n",
    "            res += math.fabs(value - b[name])**k\n",
    "        return math.pow(res, 1 / k)\n",
    "    return newDist\n",
    "euclidDist = minkowskiDist(2)\n",
    "# main classifier\n",
    "class kNNClassifier:\n",
    "    classColumn = 'clazz'\n",
    "    trainData = None # samples with known classes\n",
    "    k = None # number of nearest neighbours\n",
    "    kernel = None # kernel\n",
    "    distanceMeasure = None\n",
    "    numberOfClasses = None\n",
    "    \n",
    "    \n",
    "    def __init__(self, trainData, k = 5, kernel = linear, distanceMeasure = euclidDist, numberOfClasses = 2):\n",
    "        self.trainData = trainData\n",
    "        self.k = k\n",
    "        self.kernel = kernel\n",
    "        self.distanceMeasure = distanceMeasure\n",
    "        self.numberOfClasses = numberOfClasses\n",
    "        \n",
    "    def computePoint(self, Point):\n",
    "        dist = [[self.distanceMeasure(Point, sample.drop(self.classColumn)), \n",
    "                 sample[self.classColumn]] \n",
    "                for index, sample in self.trainData.iterrows()]\n",
    "        sortedDist = sorted(dist)\n",
    "        classValues = [0] * self.numberOfClasses\n",
    "        for p in sortedDist[:self.k]:\n",
    "            classValues[int(p[1])] += self.kernel(p[0] / sortedDist[self.k + 1][0])\n",
    "        return classValues.index(max(classValues))\n",
    "    \n",
    "    def compute(self, testData):\n",
    "        return [self.computePoint(x) for (index, x) in testData.iterrows()]"
   ]
  },
  {
   "cell_type": "code",
   "execution_count": 3,
   "metadata": {
    "collapsed": false
   },
   "outputs": [
    {
     "name": "stdout",
     "output_type": "stream",
     "text": [
      "[1, 1, 1, 1, 1, 1, 1, 1, 1, 1, 1, 1, 1, 0, 0, 1, 1, 1, 1, 1, 0, 1, 0, 0, 1, 1, 1, 0, 1, 1, 1, 1, 1, 1, 1, 1, 1, 1, 1, 1, 1, 1, 1, 1, 1, 1, 0, 1, 0, 1, 1, 1, 1, 1, 1, 1, 1, 1, 0, 0, 1, 0, 0, 0, 0, 0, 0, 0, 0, 0, 0, 0, 0, 0, 0, 1, 1, 1, 0, 0, 1, 1, 0, 0, 0, 0, 0, 0, 1, 0, 0, 0, 1, 0, 0, 0, 0, 0, 0, 0, 0, 0, 0, 0, 1, 0, 0, 1, 0, 0, 0, 0, 0, 0, 1, 0, 0, 1]\n"
     ]
    }
   ],
   "source": [
    "# Test classifier\n",
    "data = pd.read_csv(\"chips.csv\")\n",
    "classifier = kNNClassifier(data, k = 23)\n",
    "data2 = data.drop('clazz', axis = 1)#[1:2]\n",
    "print(classifier.compute(data2))\n"
   ]
  },
  {
   "cell_type": "code",
   "execution_count": 4,
   "metadata": {
    "collapsed": false
   },
   "outputs": [
    {
     "data": {
      "text/plain": [
       "<matplotlib.axes._subplots.AxesSubplot at 0x7f0c52b53518>"
      ]
     },
     "execution_count": 4,
     "metadata": {},
     "output_type": "execute_result"
    },
    {
     "data": {
      "image/png": "[encoded data removed]",
      "text/plain": [
       "<matplotlib.figure.Figure at 0x7f0c800ea748>"
      ]
     },
     "metadata": {},
     "output_type": "display_data"
    }
   ],
   "source": [
    "data = pd.read_csv(\"chips.csv\")\n",
    "data.plot(kind='kde')"
   ]
  },
  {
   "cell_type": "code",
   "execution_count": 5,
   "metadata": {
    "collapsed": false
   },
   "outputs": [],
   "source": [
    "data = pd.read_csv(\"chips.csv\")\n",
    "x1 = -0.2\n",
    "y1 = 0.4\n",
    "x2 = 0.35\n",
    "y2 = 0\n",
    "data['distToCenter'] = pd.Series([min((curP.x - x1)**2 + (curP.y - y1)**2, \n",
    "                                           (curP.x - x2)**2 + (curP.y - y2)**2) \n",
    "                               for index, curP in data.iterrows()], index=data.index)\n",
    "maxD = max(data.distToCenter)\n",
    "minD = min(data.distToCenter)\n",
    "data['distToCenterNorm'] = pd.Series([(curP.distToCenter - minD) / (maxD - minD)\n",
    "                               for index, curP in data.iterrows()], index=data.index)\n",
    "data.drop(['x', 'y', 'distToCenter'], inplace = True, axis = 1)"
   ]
  },
  {
   "cell_type": "code",
   "execution_count": 6,
   "metadata": {
    "collapsed": false
   },
   "outputs": [
    {
     "data": {
      "text/html": [
       "<div>\n",
       "<table border=\"1\" class=\"dataframe\">\n",
       "  <thead>\n",
       "    <tr style=\"text-align: right;\">\n",
       "      <th></th>\n",
       "      <th>clazz</th>\n",
       "      <th>distToCenterNorm</th>\n",
       "    </tr>\n",
       "  </thead>\n",
       "  <tbody>\n",
       "    <tr>\n",
       "      <th>count</th>\n",
       "      <td>118.000000</td>\n",
       "      <td>118.000000</td>\n",
       "    </tr>\n",
       "    <tr>\n",
       "      <th>mean</th>\n",
       "      <td>0.491525</td>\n",
       "      <td>0.358812</td>\n",
       "    </tr>\n",
       "    <tr>\n",
       "      <th>std</th>\n",
       "      <td>0.502060</td>\n",
       "      <td>0.222734</td>\n",
       "    </tr>\n",
       "    <tr>\n",
       "      <th>min</th>\n",
       "      <td>0.000000</td>\n",
       "      <td>0.000000</td>\n",
       "    </tr>\n",
       "    <tr>\n",
       "      <th>25%</th>\n",
       "      <td>0.000000</td>\n",
       "      <td>0.173395</td>\n",
       "    </tr>\n",
       "    <tr>\n",
       "      <th>50%</th>\n",
       "      <td>0.000000</td>\n",
       "      <td>0.360644</td>\n",
       "    </tr>\n",
       "    <tr>\n",
       "      <th>75%</th>\n",
       "      <td>1.000000</td>\n",
       "      <td>0.483464</td>\n",
       "    </tr>\n",
       "    <tr>\n",
       "      <th>max</th>\n",
       "      <td>1.000000</td>\n",
       "      <td>1.000000</td>\n",
       "    </tr>\n",
       "  </tbody>\n",
       "</table>\n",
       "</div>"
      ],
      "text/plain": [
       "            clazz  distToCenterNorm\n",
       "count  118.000000        118.000000\n",
       "mean     0.491525          0.358812\n",
       "std      0.502060          0.222734\n",
       "min      0.000000          0.000000\n",
       "25%      0.000000          0.173395\n",
       "50%      0.000000          0.360644\n",
       "75%      1.000000          0.483464\n",
       "max      1.000000          1.000000"
      ]
     },
     "execution_count": 6,
     "metadata": {},
     "output_type": "execute_result"
    }
   ],
   "source": [
    "data.describe()"
   ]
  },
  {
   "cell_type": "code",
   "execution_count": 107,
   "metadata": {
    "collapsed": false
   },
   "outputs": [
    {
     "name": "stdout",
     "output_type": "stream",
     "text": [
      "0.803985507246\n"
     ]
    }
   ],
   "source": [
    "k = 5\n",
    "CV = cv.KFold(len(data), n_folds=k, shuffle=True, random_state=None)\n",
    "score = 0.0\n",
    "for traincv, testcv in CV:\n",
    "    train = data.iloc[traincv]\n",
    "    test = data.iloc[testcv]\n",
    "    classifier = kNNClassifier(train, k = 7, kernel = cosKernel)\n",
    "    score += mt.accuracy_score(classifier.compute(test.drop('clazz', axis=1)), test.clazz) / k\n",
    "print(score)    "
   ]
  },
  {
   "cell_type": "code",
   "execution_count": 105,
   "metadata": {
    "collapsed": false
   },
   "outputs": [
    {
     "name": "stdout",
     "output_type": "stream",
     "text": [
      "0.76268115942\n"
     ]
    }
   ],
   "source": [
    "#try default features\n",
    "data2 = pd.read_csv(\"chips.csv\")\n",
    "k = 5\n",
    "CV = cv.KFold(len(data), n_folds=k, shuffle=True, random_state=None)\n",
    "score = 0.0\n",
    "for traincv, testcv in CV:\n",
    "    train = data.iloc[traincv]\n",
    "    test = data.iloc[testcv]\n",
    "    classifier = kNNClassifier(train, k = 3, kernel = cosKernel)\n",
    "    score += mt.accuracy_score(classifier.compute(test.drop('clazz', axis=1)), test.clazz) / k\n",
    "print(score)   "
   ]
  },
  {
   "cell_type": "code",
   "execution_count": 12,
   "metadata": {
    "collapsed": false
   },
   "outputs": [
    {
     "name": "stderr",
     "output_type": "stream",
     "text": [
      "/home/timur/anaconda3/lib/python3.5/site-packages/ipykernel/__main__.py:9: SettingWithCopyWarning: \n",
      "A value is trying to be set on a copy of a slice from a DataFrame.\n",
      "Try using .loc[row_indexer,col_indexer] = value instead\n",
      "\n",
      "See the caveats in the documentation: http://pandas.pydata.org/pandas-docs/stable/indexing.html#indexing-view-versus-copy\n"
     ]
    },
    {
     "data": {
      "image/png": "[encoded data removed]",
      "text/plain": [
       "<matplotlib.figure.Figure at 0x7f0c52b52048>"
      ]
     },
     "metadata": {},
     "output_type": "display_data"
    },
    {
     "data": {
      "image/png": "[encoded data removed]",
      "text/plain": [
       "<matplotlib.figure.Figure at 0x7f0c52b14f98>"
      ]
     },
     "metadata": {},
     "output_type": "display_data"
    }
   ],
   "source": [
    "#Visualize \n",
    "data = pd.read_csv(\"chips.csv\")\n",
    "k = 2\n",
    "CV = cv.KFold(len(data), n_folds=k, shuffle=True, random_state=None)\n",
    "for traincv, testcv in CV:\n",
    "    train = data.iloc[traincv]\n",
    "    test = data.iloc[testcv]\n",
    "    classifier = kNNClassifier(train, k = 7, kernel = cosKernel)\n",
    "    test['predClazz'] = pd.Series(classifier.compute(test.drop('clazz', axis=1)), index=test.index)\n",
    "    # false negative - black\n",
    "    # false positive - yellow\n",
    "    # true positive - red\n",
    "    # true negative - blue\n",
    "    col = ['BLack' if x.predClazz == 0 and x.clazz == 1 else\n",
    "           'Yellow'if x.predClazz == 1 and x.clazz == 0 else\n",
    "           'Red' if x.predClazz == 1 and x.clazz == 1 else\n",
    "           'Blue' for i, x in test.iterrows()]\n",
    "    plt.scatter(test.x, test.y, c=col)\n",
    "    plt.show()"
   ]
  },
  {
   "cell_type": "code",
   "execution_count": 14,
   "metadata": {
    "collapsed": false
   },
   "outputs": [
    {
     "data": {
      "text/html": [
       "<div>\n",
       "<table border=\"1\" class=\"dataframe\">\n",
       "  <thead>\n",
       "    <tr style=\"text-align: right;\">\n",
       "      <th></th>\n",
       "      <th>x</th>\n",
       "      <th>y</th>\n",
       "      <th>clazz</th>\n",
       "    </tr>\n",
       "  </thead>\n",
       "  <tbody>\n",
       "    <tr>\n",
       "      <th>count</th>\n",
       "      <td>118.000000</td>\n",
       "      <td>118.000000</td>\n",
       "      <td>118.000000</td>\n",
       "    </tr>\n",
       "    <tr>\n",
       "      <th>mean</th>\n",
       "      <td>0.054779</td>\n",
       "      <td>0.183102</td>\n",
       "      <td>0.491525</td>\n",
       "    </tr>\n",
       "    <tr>\n",
       "      <th>std</th>\n",
       "      <td>0.496654</td>\n",
       "      <td>0.519743</td>\n",
       "      <td>0.502060</td>\n",
       "    </tr>\n",
       "    <tr>\n",
       "      <th>min</th>\n",
       "      <td>-0.830070</td>\n",
       "      <td>-0.769740</td>\n",
       "      <td>0.000000</td>\n",
       "    </tr>\n",
       "    <tr>\n",
       "      <th>25%</th>\n",
       "      <td>-0.372120</td>\n",
       "      <td>-0.254385</td>\n",
       "      <td>0.000000</td>\n",
       "    </tr>\n",
       "    <tr>\n",
       "      <th>50%</th>\n",
       "      <td>-0.006336</td>\n",
       "      <td>0.213455</td>\n",
       "      <td>0.000000</td>\n",
       "    </tr>\n",
       "    <tr>\n",
       "      <th>75%</th>\n",
       "      <td>0.478970</td>\n",
       "      <td>0.646562</td>\n",
       "      <td>1.000000</td>\n",
       "    </tr>\n",
       "    <tr>\n",
       "      <th>max</th>\n",
       "      <td>1.070900</td>\n",
       "      <td>1.108900</td>\n",
       "      <td>1.000000</td>\n",
       "    </tr>\n",
       "  </tbody>\n",
       "</table>\n",
       "</div>"
      ],
      "text/plain": [
       "                x           y       clazz\n",
       "count  118.000000  118.000000  118.000000\n",
       "mean     0.054779    0.183102    0.491525\n",
       "std      0.496654    0.519743    0.502060\n",
       "min     -0.830070   -0.769740    0.000000\n",
       "25%     -0.372120   -0.254385    0.000000\n",
       "50%     -0.006336    0.213455    0.000000\n",
       "75%      0.478970    0.646562    1.000000\n",
       "max      1.070900    1.108900    1.000000"
      ]
     },
     "execution_count": 14,
     "metadata": {},
     "output_type": "execute_result"
    }
   ],
   "source": [
    "data = pd.read_csv(\"chips.csv\")\n",
    "data.describe()"
   ]
  },
  {
   "cell_type": "code",
   "execution_count": null,
   "metadata": {
    "collapsed": true
   },
   "outputs": [],
   "source": []
  },
  {
   "cell_type": "code",
   "execution_count": null,
   "metadata": {
    "collapsed": true
   },
   "outputs": [],
   "source": []
  },
  {
   "cell_type": "code",
   "execution_count": null,
   "metadata": {
    "collapsed": true
   },
   "outputs": [],
   "source": []
  },
  {
   "cell_type": "code",
   "execution_count": null,
   "metadata": {
    "collapsed": true
   },
   "outputs": [],
   "source": []
  },
  {
   "cell_type": "code",
   "execution_count": 45,
   "metadata": {
    "collapsed": false
   },
   "outputs": [
    {
     "data": {
      "image/png": "[encoded data removed]",
      "text/plain": [
       "<matplotlib.figure.Figure at 0x7f3e1f824f28>"
      ]
     },
     "metadata": {},
     "output_type": "display_data"
    }
   ],
   "source": [
    "col = ['Yellow' if x == 0 else 'Blue' for x in data.clazz]\n",
    "plt.scatter(data.x, data.y, c=col)\n",
    "plt.show()"
   ]
  },
  {
   "cell_type": "code",
   "execution_count": 90,
   "metadata": {
    "collapsed": false
   },
   "outputs": [
    {
     "data": {
      "image/png": "[encoded data removed]",
      "text/plain": [
       "<matplotlib.figure.Figure at 0x7fa28928bf28>"
      ]
     },
     "metadata": {},
     "output_type": "display_data"
    }
   ],
   "source": [
    "plt.hist(data.distToCenterNorm)\n",
    "plt.show()"
   ]
  },
  {
   "cell_type": "code",
   "execution_count": 92,
   "metadata": {
    "collapsed": false
   },
   "outputs": [
    {
     "data": {
      "image/png": "[encoded data removed]",
      "text/plain": [
       "<matplotlib.figure.Figure at 0x7fa28bb1aa58>"
      ]
     },
     "metadata": {},
     "output_type": "display_data"
    },
    {
     "data": {
      "image/png": "[encoded data removed]",
      "text/plain": [
       "<matplotlib.figure.Figure at 0x7fa289510e48>"
      ]
     },
     "metadata": {},
     "output_type": "display_data"
    }
   ],
   "source": [
    "plt.hist(data[data.clazz == 1].distToCenterNorm)\n",
    "plt.show()\n",
    "plt.hist(data[data.clazz == 0].distToCenterNorm)\n",
    "plt.show()"
   ]
  }
 ],
 "metadata": {
  "anaconda-cloud": {},
  "kernelspec": {
   "display_name": "Python 3",
   "language": "python",
   "name": "python3"
  },
  "language_info": {
   "codemirror_mode": {
    "name": "ipython",
    "version": 3
   },
   "file_extension": ".py",
   "mimetype": "text/x-python",
   "name": "python",
   "nbconvert_exporter": "python",
   "pygments_lexer": "ipython3",
   "version": "3.5.1"
  }
 },
 "nbformat": 4,
 "nbformat_minor": 0
}
