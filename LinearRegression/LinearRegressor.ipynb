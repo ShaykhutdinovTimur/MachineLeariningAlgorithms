{
 "cells": [
  {
   "cell_type": "code",
   "execution_count": 1,
   "metadata": {
    "collapsed": false
   },
   "outputs": [
    {
     "data": {
      "application/javascript": [
       "IPython.notebook.set_autosave_interval(15000)"
      ]
     },
     "metadata": {},
     "output_type": "display_data"
    },
    {
     "name": "stdout",
     "output_type": "stream",
     "text": [
      "Autosaving every 15 seconds\n"
     ]
    }
   ],
   "source": [
    "#imports\n",
    "%matplotlib inline\n",
    "%load_ext autoreload\n",
    "%autoreload 5\n",
    "%autosave 15\n",
    "\n",
    "import pandas as pd\n",
    "import math\n",
    "import scipy as sp\n",
    "import numpy as np\n",
    "import sklearn.cross_validation as cv\n",
    "import sklearn.metrics as mt\n",
    "import matplotlib.pyplot as plt"
   ]
  },
  {
   "cell_type": "code",
   "execution_count": 2,
   "metadata": {
    "collapsed": false
   },
   "outputs": [
    {
     "data": {
      "text/html": [
       "<div>\n",
       "<table border=\"1\" class=\"dataframe\">\n",
       "  <thead>\n",
       "    <tr style=\"text-align: right;\">\n",
       "      <th></th>\n",
       "      <th>area</th>\n",
       "      <th>rooms</th>\n",
       "      <th>price</th>\n",
       "    </tr>\n",
       "  </thead>\n",
       "  <tbody>\n",
       "    <tr>\n",
       "      <th>count</th>\n",
       "      <td>47.000000</td>\n",
       "      <td>47.000000</td>\n",
       "      <td>47.000000</td>\n",
       "    </tr>\n",
       "    <tr>\n",
       "      <th>mean</th>\n",
       "      <td>2000.680851</td>\n",
       "      <td>3.170213</td>\n",
       "      <td>340412.659574</td>\n",
       "    </tr>\n",
       "    <tr>\n",
       "      <th>std</th>\n",
       "      <td>794.702354</td>\n",
       "      <td>0.760982</td>\n",
       "      <td>125039.899586</td>\n",
       "    </tr>\n",
       "    <tr>\n",
       "      <th>min</th>\n",
       "      <td>852.000000</td>\n",
       "      <td>1.000000</td>\n",
       "      <td>169900.000000</td>\n",
       "    </tr>\n",
       "    <tr>\n",
       "      <th>25%</th>\n",
       "      <td>1432.000000</td>\n",
       "      <td>3.000000</td>\n",
       "      <td>249900.000000</td>\n",
       "    </tr>\n",
       "    <tr>\n",
       "      <th>50%</th>\n",
       "      <td>1888.000000</td>\n",
       "      <td>3.000000</td>\n",
       "      <td>299900.000000</td>\n",
       "    </tr>\n",
       "    <tr>\n",
       "      <th>75%</th>\n",
       "      <td>2269.000000</td>\n",
       "      <td>4.000000</td>\n",
       "      <td>384450.000000</td>\n",
       "    </tr>\n",
       "    <tr>\n",
       "      <th>max</th>\n",
       "      <td>4478.000000</td>\n",
       "      <td>5.000000</td>\n",
       "      <td>699900.000000</td>\n",
       "    </tr>\n",
       "  </tbody>\n",
       "</table>\n",
       "</div>"
      ],
      "text/plain": [
       "              area      rooms          price\n",
       "count    47.000000  47.000000      47.000000\n",
       "mean   2000.680851   3.170213  340412.659574\n",
       "std     794.702354   0.760982  125039.899586\n",
       "min     852.000000   1.000000  169900.000000\n",
       "25%    1432.000000   3.000000  249900.000000\n",
       "50%    1888.000000   3.000000  299900.000000\n",
       "75%    2269.000000   4.000000  384450.000000\n",
       "max    4478.000000   5.000000  699900.000000"
      ]
     },
     "execution_count": 2,
     "metadata": {},
     "output_type": "execute_result"
    }
   ],
   "source": [
    "data = pd.read_csv(\"prices.csv\")\n",
    "data.describe()"
   ]
  },
  {
   "cell_type": "code",
   "execution_count": 3,
   "metadata": {
    "collapsed": false
   },
   "outputs": [
    {
     "data": {
      "image/png": "[encoded data removed]",
      "text/plain": [
       "<matplotlib.figure.Figure at 0x7f3ad7f2cb70>"
      ]
     },
     "metadata": {},
     "output_type": "display_data"
    }
   ],
   "source": [
    "data = pd.read_csv(\"prices.csv\")\n",
    "col = ['BLack' if x.rooms == 1 else\n",
    "       'Red'if x.rooms == 2 else\n",
    "       'Yellow' if x.rooms == 3 else\n",
    "       'Green' if x.rooms == 4 else\n",
    "       'Blue' for i, x in data.iterrows()]\n",
    "plt.scatter(data.area, data.price, c=col)\n",
    "plt.show()"
   ]
  },
  {
   "cell_type": "code",
   "execution_count": 47,
   "metadata": {
    "collapsed": false
   },
   "outputs": [],
   "source": [
    "class LinearRegressor:\n",
    "    regColumn = 'price'\n",
    "    trainData = None\n",
    "    mu = None\n",
    "    eps = None\n",
    "    # y' = a * rooms + b * area + c\n",
    "    a = None \n",
    "    b = None\n",
    "    c = None\n",
    "    \n",
    "        \n",
    "    def stepGradient(self, points, learningRate):\n",
    "        a_g = 0.0\n",
    "        b_g = 0.0\n",
    "        c_g = 0.0\n",
    "        N = float(len(points))\n",
    "        a_c = self.a\n",
    "        b_c = self.b\n",
    "        c_c = self.c\n",
    "        for i in range(0, len(points)):\n",
    "            x = points.iloc[[i]].as_matrix()\n",
    "            dif = (x[0][2] - a_c * x[0][1] - b_c * x[0][0] - c_c)\n",
    "            c_g += -(2/N) * dif\n",
    "            b_g += -(2/N) * x[0][0] * dif\n",
    "            a_g += -(2/N) * x[0][1] * dif\n",
    "        self.a += -(learningRate * a_g)\n",
    "        self.b += -(learningRate * b_g)\n",
    "        self.c += -(learningRate * c_g)\n",
    "        return\n",
    "    \n",
    "    def __init__(self, trainData, mu = 0.5):\n",
    "        self.trainData = trainData\n",
    "        self.mu = mu        \n",
    "        self.a = 0.0\n",
    "        self.b = 0.0\n",
    "        self.c = 0.0\n",
    "        N = float(len(trainData))\n",
    "        self.eps = 1/(2 * N)\n",
    "        last = 0.0\n",
    "        while True:\n",
    "            self.stepGradient(trainData, mu)\n",
    "            sum = 0.0\n",
    "            for (index, x) in trainData.iterrows():\n",
    "                sum += (x.price - (self.a * x.rooms + self.b * x.area + self.c))**2\n",
    "            cur = math.pow(sum / N, 1/2)\n",
    "            if (math.fabs(last - cur) < self.eps):\n",
    "                break            \n",
    "            #print()\n",
    "            last = cur\n",
    "        print(last)    \n",
    "        print(self.a, self.b, self.c)\n",
    "        \n",
    "    def computeFlat(self, Flat):\n",
    "        return [self.a * Flat.rooms + self.b * Flat.area + self.c]        \n",
    "    \n",
    "    def compute(self, testData):\n",
    "        return [self.computeFlat(x) for (index, x) in testData.iterrows()]"
   ]
  },
  {
   "cell_type": "code",
   "execution_count": 48,
   "metadata": {
    "collapsed": false
   },
   "outputs": [
    {
     "name": "stdout",
     "output_type": "stream",
     "text": [
      "63926.510817197326\n",
      "-33804.0408204 503884.648758 340412.659574\n"
     ]
    }
   ],
   "source": [
    "data = pd.read_csv(\"prices.csv\")\n",
    "\n",
    "#normalization\n",
    "cols_to_norm = ['area', 'rooms']\n",
    "meanArea = data.area.mean()\n",
    "maxMinArea = data.area.max() - data.area.min()\n",
    "def normalizeArea(area):\n",
    "    return (area - meanArea) / maxMinArea\n",
    "meanRooms = data.rooms.mean()\n",
    "maxMinRooms = data.rooms.max() - data.rooms.min()\n",
    "def normalizeRooms(rooms):\n",
    "    return (rooms - meanRooms) / maxMinRooms\n",
    "\n",
    "data[cols_to_norm] = data[cols_to_norm].apply(lambda x: (x - x.mean()) / (x.max() - x.min()))\n",
    "\n",
    "reg = LinearRegressor(data)\n",
    "reg.print())"
   ]
  },
  {
   "cell_type": "code",
   "execution_count": null,
   "metadata": {
    "collapsed": true
   },
   "outputs": [],
   "source": []
  },
  {
   "cell_type": "code",
   "execution_count": 27,
   "metadata": {
    "collapsed": false
   },
   "outputs": [
    {
     "data": {
      "image/png": "[encoded data removed]",
      "text/plain": [
       "<matplotlib.figure.Figure at 0x7f3ad4542f28>"
      ]
     },
     "metadata": {},
     "output_type": "display_data"
    }
   ],
   "source": [
    "class LinearRegressor:\n",
    "    regColumn = 'price'\n",
    "    trainData = None\n",
    "    mu = None\n",
    "    # y' = a * rooms + b * area + c\n",
    "    a = None \n",
    "    b = None\n",
    "    c = None\n",
    "    conv = None\n",
    "    \n",
    "        \n",
    "    def stepGradient(self, points, learningRate):\n",
    "        a_g = 0.0\n",
    "        b_g = 0.0\n",
    "        c_g = 0.0\n",
    "        N = float(len(points))\n",
    "        a_c = self.a\n",
    "        b_c = self.b\n",
    "        c_c = self.c\n",
    "        for i in range(0, len(points)):\n",
    "            x = points.iloc[[i]].as_matrix()\n",
    "            dif = (x[0][2] - a_c * x[0][1] - b_c * x[0][0] - c_c)\n",
    "            c_g += -(2/N) * dif\n",
    "            b_g += -(2/N) * x[0][0] * dif\n",
    "            a_g += -(2/N) * x[0][1] * dif\n",
    "        self.a += -(learningRate * a_g)\n",
    "        self.b += -(learningRate * b_g)\n",
    "        self.c += -(learningRate * c_g)\n",
    "        return\n",
    "    \n",
    "    def __init__(self, trainData, mu = 0.5, ):\n",
    "        self.trainData = trainData\n",
    "        self.mu = mu\n",
    "        self.a = 0.0\n",
    "        self.b = 0.0\n",
    "        self.c = 0.0\n",
    "        N = float(len(trainData))\n",
    "        last = 0.0\n",
    "        k = 0;\n",
    "        l = 32;\n",
    "        self.conv = [0]*l\n",
    "        while (k < l):\n",
    "            self.stepGradient(trainData, mu)\n",
    "            sum = 0.0\n",
    "            for (index, x) in trainData.iterrows():\n",
    "                sum += (x.price - (self.a * x.rooms + self.b * x.area + self.c))**2\n",
    "            cur = math.pow(sum / N, 1/2)                     \n",
    "            #print()\n",
    "            last = cur\n",
    "            self.conv[k] = last\n",
    "            k += 1;\n",
    "            \n",
    "        #print(self.a, self.b, self.c)\n",
    "        \n",
    "    def computeFlat(self, Flat):\n",
    "        return [self.a * Flat.rooms + self.b * Flat.area + self.c]        \n",
    "    \n",
    "    def compute(self, testData):\n",
    "        return [self.computeFlat(x) for (index, x) in testData.iterrows()]\n",
    "data = pd.read_csv(\"prices.csv\")\n",
    "\n",
    "#normalization\n",
    "cols_to_norm = ['area','rooms','price']\n",
    "meanArea = data.area.mean()\n",
    "maxMinArea = data.area.max() - data.area.min()\n",
    "def normalizeArea(area):\n",
    "    return (area - meanArea) / maxMinArea\n",
    "meanRooms = data.rooms.mean()\n",
    "maxMinRooms = data.rooms.max() - data.rooms.min()\n",
    "def normalizeRooms(rooms):\n",
    "    return (rooms - meanRooms) / maxMinRooms\n",
    "\n",
    "data[cols_to_norm] = data[cols_to_norm].apply(lambda x: (x - x.mean()) / (x.max() - x.min()))\n",
    "\n",
    "#reg = LinearRegressor(data)\n",
    "#print(reg.conv)\n",
    "\n",
    "parameters = [(0.2, 'Blue'), (0.65, 'Yellow'), (1.1, 'Green'), (1.55, 'Purple'), (2.0, 'Red')]\n",
    "startIndex = 0\n",
    "for (x, col) in parameters:\n",
    "    reg = LinearRegressor(data, mu = x)\n",
    "    plt.plot(range(startIndex, len(reg.conv)), reg.conv[startIndex:], c = col, \n",
    "             label = 'mu = ' + str(x), linewidth = 3)\n",
    "plt.ylabel('smallest mean square error')\n",
    "plt.xlabel('iteration')\n",
    "plt.legend(bbox_to_anchor=(1.05, 1), loc=2, borderaxespad=0.)\n",
    "plt.show()"
   ]
  },
  {
   "cell_type": "code",
   "execution_count": null,
   "metadata": {
    "collapsed": true
   },
   "outputs": [],
   "source": []
  }
 ],
 "metadata": {
  "kernelspec": {
   "display_name": "Python 3",
   "language": "python",
   "name": "python3"
  },
  "language_info": {
   "codemirror_mode": {
    "name": "ipython",
    "version": 3
   },
   "file_extension": ".py",
   "mimetype": "text/x-python",
   "name": "python",
   "nbconvert_exporter": "python",
   "pygments_lexer": "ipython3",
   "version": "3.5.1"
  }
 },
 "nbformat": 4,
 "nbformat_minor": 0
}
